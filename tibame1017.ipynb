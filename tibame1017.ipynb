{
  "nbformat": 4,
  "nbformat_minor": 0,
  "metadata": {
    "colab": {
      "provenance": [],
      "collapsed_sections": [],
      "authorship_tag": "ABX9TyMwPeqFmHKsJHS8K4kLPJ/w",
      "include_colab_link": true
    },
    "kernelspec": {
      "name": "python3",
      "display_name": "Python 3"
    },
    "language_info": {
      "name": "python"
    }
  },
  "cells": [
    {
      "cell_type": "markdown",
      "metadata": {
        "id": "view-in-github",
        "colab_type": "text"
      },
      "source": [
        "<a href=\"https://colab.research.google.com/github/ericwu/Tibame20221017/blob/main/tibame1017.ipynb\" target=\"_parent\"><img src=\"https://colab.research.google.com/assets/colab-badge.svg\" alt=\"Open In Colab\"/></a>"
      ]
    },
    {
      "cell_type": "code",
      "execution_count": null,
      "metadata": {
        "id": "Y4RKS760hvc4"
      },
      "outputs": [],
      "source": [
        "import pandas as pd\n",
        "from sklearn.datasets import load_iris\n",
        "iris=load_iris()\n",
        "iris"
      ]
    },
    {
      "cell_type": "markdown",
      "source": [],
      "metadata": {
        "id": "voqgTz4Hk0_G"
      }
    },
    {
      "cell_type": "code",
      "source": [
        "df=pd.DataFrame(iris[\"data\"],columns=iris[\"feature_names\"])\n",
        "df[\"ans\"]=iris[\"target\"]\n",
        "df"
      ],
      "metadata": {
        "id": "wjTOkcxKeDA6"
      },
      "execution_count": null,
      "outputs": []
    },
    {
      "cell_type": "code",
      "source": [
        "type(iris[\"data\"])"
      ],
      "metadata": {
        "colab": {
          "base_uri": "https://localhost:8080/"
        },
        "id": "P6ZPh4Ceniul",
        "outputId": "bd5ea990-3b53-4436-a769-dba920e48e8b"
      },
      "execution_count": 23,
      "outputs": [
        {
          "output_type": "execute_result",
          "data": {
            "text/plain": [
              "numpy.ndarray"
            ]
          },
          "metadata": {},
          "execution_count": 23
        }
      ]
    },
    {
      "cell_type": "code",
      "source": [
        "import numpy as np\n",
        "from sklearn.model_selection import train_test_split"
      ],
      "metadata": {
        "id": "2E2f2OYtjo2j"
      },
      "execution_count": 13,
      "outputs": []
    },
    {
      "cell_type": "code",
      "source": [
        "train_test_split([1,2,3,4],[5,6,7,8],[9,10,11,12],test_size=0.25)"
      ],
      "metadata": {
        "colab": {
          "base_uri": "https://localhost:8080/"
        },
        "id": "HDQ3qmEgiaty",
        "outputId": "73f8845f-78d7-47f4-c554-f25a09e783ee"
      },
      "execution_count": 10,
      "outputs": [
        {
          "output_type": "execute_result",
          "data": {
            "text/plain": [
              "[[4, 1, 2], [3], [8, 5, 6], [7], [12, 9, 10], [11]]"
            ]
          },
          "metadata": {},
          "execution_count": 10
        }
      ]
    },
    {
      "cell_type": "markdown",
      "source": [],
      "metadata": {
        "id": "lcTMkXEokzxl"
      }
    },
    {
      "cell_type": "code",
      "source": [
        "x=df.drop(\"ans\",axis=1)\n",
        "x=np.array(x)\n",
        "y=np.array(df[\"ans\"])"
      ],
      "metadata": {
        "id": "jq0PpQ6nkC9h"
      },
      "execution_count": 16,
      "outputs": []
    },
    {
      "cell_type": "code",
      "source": [
        "x_train,x_test,y_train,y_test= train_test_split(x,y,test_size=0.1)"
      ],
      "metadata": {
        "id": "ZVn5Q47rk9ja"
      },
      "execution_count": 19,
      "outputs": []
    },
    {
      "cell_type": "code",
      "source": [
        "y_test"
      ],
      "metadata": {
        "colab": {
          "base_uri": "https://localhost:8080/"
        },
        "id": "6gbpjVp0liei",
        "outputId": "3562952b-9346-4af1-a16f-183b75244ef9"
      },
      "execution_count": 22,
      "outputs": [
        {
          "output_type": "execute_result",
          "data": {
            "text/plain": [
              "array([1, 1, 2, 0, 1, 2, 0, 1, 0, 1, 2, 1, 0, 0, 0])"
            ]
          },
          "metadata": {},
          "execution_count": 22
        }
      ]
    },
    {
      "cell_type": "code",
      "source": [],
      "metadata": {
        "id": "Z7tk64awmCqb"
      },
      "execution_count": null,
      "outputs": []
    }
  ]
}